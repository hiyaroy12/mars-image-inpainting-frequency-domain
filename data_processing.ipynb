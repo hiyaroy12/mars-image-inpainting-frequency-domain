{
 "cells": [
  {
   "cell_type": "code",
   "execution_count": 7,
   "metadata": {},
   "outputs": [],
   "source": [
    "import os\n",
    "import glob\n",
    "import cv2 \n",
    "import numpy as np\n",
    "from PIL import Image\n",
    "import matplotlib.pyplot as plt\n",
    "from tqdm import tqdm"
   ]
  },
  {
   "cell_type": "code",
   "execution_count": 8,
   "metadata": {},
   "outputs": [],
   "source": [
    "def read_file(filename):\n",
    "    return [line.rstrip('\\n') for line in open(filename)]\n",
    "\n",
    "def write2file(txtfile, listoffiles):\n",
    "    fp = open(txtfile,\"w\")\n",
    "    for file in listoffiles:\n",
    "        fp.write(file + '\\n')\n",
    "    fp.close()"
   ]
  },
  {
   "cell_type": "code",
   "execution_count": 9,
   "metadata": {},
   "outputs": [],
   "source": [
    "# 'all': '/home3/hiya/workspace/mars_frequency_inpainting/data/allfiles_clean.txt',\n",
    "clean_img_files = read_file('/home3/hiya/workspace/mars_frequency_inpainting/data/allfiles_clean.txt')\n",
    "n_files = len(clean_img_files)"
   ]
  },
  {
   "cell_type": "code",
   "execution_count": 10,
   "metadata": {},
   "outputs": [
    {
     "data": {
      "text/plain": [
       "52655"
      ]
     },
     "execution_count": 10,
     "metadata": {},
     "output_type": "execute_result"
    }
   ],
   "source": [
    "n_files"
   ]
  },
  {
   "cell_type": "code",
   "execution_count": 11,
   "metadata": {},
   "outputs": [],
   "source": [
    "test_ratio=0.2\n",
    "n_train = int((1-test_ratio)*n_files)\n",
    "clean_train_img_files = clean_img_files[:n_train]\n",
    "clean_test_img_files = clean_img_files[n_train:]\n",
    "write2file('/home3/hiya/workspace/mars_frequency_inpainting/data/clean_all_train.txt',clean_train_img_files)\n",
    "write2file('/home3/hiya/workspace/mars_frequency_inpainting/data/clean_all_test.txt',clean_test_img_files)"
   ]
  },
  {
   "cell_type": "code",
   "execution_count": 12,
   "metadata": {},
   "outputs": [
    {
     "name": "stdout",
     "output_type": "stream",
     "text": [
      "42124\n",
      "10531\n"
     ]
    }
   ],
   "source": [
    "print(len(clean_train_img_files))\n",
    "print(len(clean_test_img_files))"
   ]
  },
  {
   "cell_type": "code",
   "execution_count": 25,
   "metadata": {},
   "outputs": [],
   "source": [
    "import numpy as np\n",
    "mars_mask = np.load('./data/mask_train_test.npz')"
   ]
  },
  {
   "cell_type": "code",
   "execution_count": 31,
   "metadata": {},
   "outputs": [
    {
     "data": {
      "text/plain": [
       "9000"
      ]
     },
     "execution_count": 31,
     "metadata": {},
     "output_type": "execute_result"
    }
   ],
   "source": [
    "len(list(mars_mask['train']))"
   ]
  },
  {
   "cell_type": "code",
   "execution_count": 46,
   "metadata": {},
   "outputs": [
    {
     "data": {
      "text/plain": [
       "['train', 'test']"
      ]
     },
     "execution_count": 46,
     "metadata": {},
     "output_type": "execute_result"
    }
   ],
   "source": [
    "list(mars_mask.keys())"
   ]
  },
  {
   "cell_type": "code",
   "execution_count": 22,
   "metadata": {},
   "outputs": [],
   "source": [
    "train_masks = mars_data['train']\n",
    "test_masks = mars_data['test']"
   ]
  },
  {
   "cell_type": "code",
   "execution_count": 23,
   "metadata": {},
   "outputs": [
    {
     "data": {
      "text/plain": [
       "1000"
      ]
     },
     "execution_count": 23,
     "metadata": {},
     "output_type": "execute_result"
    }
   ],
   "source": [
    "len(test_masks)"
   ]
  },
  {
   "cell_type": "code",
   "execution_count": 45,
   "metadata": {},
   "outputs": [],
   "source": [
    "train_masks = list(mars_mask['train'])"
   ]
  },
  {
   "cell_type": "code",
   "execution_count": null,
   "metadata": {},
   "outputs": [],
   "source": []
  },
  {
   "cell_type": "code",
   "execution_count": null,
   "metadata": {},
   "outputs": [],
   "source": []
  },
  {
   "cell_type": "code",
   "execution_count": null,
   "metadata": {},
   "outputs": [],
   "source": []
  },
  {
   "cell_type": "markdown",
   "metadata": {},
   "source": [
    "### dataset loader"
   ]
  },
  {
   "cell_type": "code",
   "execution_count": null,
   "metadata": {},
   "outputs": [],
   "source": []
  },
  {
   "cell_type": "code",
   "execution_count": null,
   "metadata": {},
   "outputs": [],
   "source": []
  },
  {
   "cell_type": "code",
   "execution_count": null,
   "metadata": {},
   "outputs": [],
   "source": []
  },
  {
   "cell_type": "code",
   "execution_count": null,
   "metadata": {},
   "outputs": [],
   "source": []
  },
  {
   "cell_type": "code",
   "execution_count": null,
   "metadata": {},
   "outputs": [],
   "source": []
  },
  {
   "cell_type": "markdown",
   "metadata": {},
   "source": [
    "### old codes"
   ]
  },
  {
   "cell_type": "code",
   "execution_count": 7,
   "metadata": {},
   "outputs": [],
   "source": [
    "clean_test_img_dir = '/home3/hiya/workspace/data/hirise_dataset/hirise_clean_test_images/'\n",
    "os.makedirs(clean_test_img_dir, exist_ok=True)"
   ]
  },
  {
   "cell_type": "code",
   "execution_count": 9,
   "metadata": {},
   "outputs": [
    {
     "name": "stderr",
     "output_type": "stream",
     "text": [
      "100%|██████████| 10531/10531 [03:56<00:00, 44.58it/s]\n"
     ]
    }
   ],
   "source": [
    "for image_file in tqdm(clean_test_img_files):\n",
    "    im1 = Image.open(image_file)\n",
    "    \n",
    "    basename = os.path.basename(image_file)\n",
    "    destination = os.path.join(clean_test_img_dir, basename)\n",
    "    \n",
    "    plt.imsave(destination, im1, cmap='gray')"
   ]
  },
  {
   "cell_type": "code",
   "execution_count": null,
   "metadata": {},
   "outputs": [],
   "source": []
  },
  {
   "cell_type": "code",
   "execution_count": 19,
   "metadata": {},
   "outputs": [],
   "source": [
    "corrupted_img_files = read_file('/home3/hiya/workspace/mars_image_inpainting/data/allfiles_corrupted.txt')\n",
    "# len(corrupted_img_files)\n",
    "all_corrupted_image_dir = \n",
    "\n",
    "os.makedirs(all_corrupted_image_dir, exist_ok=True)\n",
    "# os.makedirs(\"/home3/hiya/data/hirise_dataset/hirise_corrupted_images/\", exist_ok=True)\n"
   ]
  },
  {
   "cell_type": "code",
   "execution_count": null,
   "metadata": {},
   "outputs": [],
   "source": [
    "for image_file in tqdm(corrupted_img_files):\n",
    "    im1 = Image.open(image_file)\n",
    "    \n",
    "    basename = os.path.basename(image_file)\n",
    "    destination = os.path.join(all_corrupted_image_dir, basename)\n",
    "    \n",
    "    plt.imsave(destination, im1, cmap='gray')\n",
    "    "
   ]
  },
  {
   "cell_type": "code",
   "execution_count": 21,
   "metadata": {},
   "outputs": [
    {
     "name": "stdout",
     "output_type": "stream",
     "text": [
      "/home3/hiya/workspace/mars_image_inpainting/codes\n"
     ]
    }
   ],
   "source": [
    "!pwd"
   ]
  },
  {
   "cell_type": "code",
   "execution_count": 14,
   "metadata": {},
   "outputs": [
    {
     "data": {
      "text/plain": [
       "3140"
      ]
     },
     "execution_count": 14,
     "metadata": {},
     "output_type": "execute_result"
    }
   ],
   "source": [
    "a = glob.glob('/home3/hiya/workspace/data/hirise_dataset/clean_files_cluster_4_corrupted/*')\n",
    "len(a)"
   ]
  },
  {
   "cell_type": "code",
   "execution_count": null,
   "metadata": {},
   "outputs": [],
   "source": [
    "### This part is for writing the images to disk\n",
    "def save_corrupted_text_disk(files_txt='/home3/hiya/workspace/mars_image_inpainting/data/allfiles_clean.txt',\n",
    "                             mask_in=None, write_folder=None):\n",
    "    test_ratio=0.2\n",
    "    clean_img_files = read_file(files_txt)\n",
    "    n_files = len(clean_img_files)\n",
    "    n_train = int((1-test_ratio)*n_files)\n",
    "    clean_test_img_files = clean_img_files[n_train:]\n",
    "    \n",
    "    # write_test_img_dir = '/home3/hiya/workspace/data/hirise_dataset/hirise_clean_test_images/'\n",
    "    os.makedirs(write_folder, exist_ok=True)\n",
    "    for k, image_file in tqdm(enumerate(clean_test_img_files)):\n",
    "        im1 = np.array(Image.open(image_file))\n",
    "        im1 = cv2.resize(im1, (256, 256))\n",
    "        mask_k = mask_in[k%len(mask_in)]\n",
    "        im1 = im1 * (1-mask_k/255.)\n",
    "        basename = os.path.basename(image_file)\n",
    "        destination = os.path.join(write_folder, basename)\n",
    "        plt.imsave(destination, im1.astype('uint8'), cmap='gray')"
   ]
  },
  {
   "cell_type": "code",
   "execution_count": null,
   "metadata": {},
   "outputs": [],
   "source": [
    "clean_filenames =     { 'all': '/home3/hiya/workspace/mars_image_inpainting/data/allfiles_clean.txt',\n",
    "                        '0': '/home3/hiya/workspace/mars_image_inpainting/data/clean_files_cluster_0.txt',\n",
    "                        '1': '/home3/hiya/workspace/mars_image_inpainting/data/clean_files_cluster_1.txt',\n",
    "                        '2': '/home3/hiya/workspace/mars_image_inpainting/data/clean_files_cluster_2.txt',\n",
    "                        '3': '/home3/hiya/workspace/mars_image_inpainting/data/clean_files_cluster_3.txt',\n",
    "                        '4': '/home3/hiya/workspace/mars_image_inpainting/data/clean_files_cluster_4.txt'}\n",
    "\n",
    "for k,files_txt in clean_filenames.items():\n",
    "    prefix = files_txt.split('.txt')[0].split('/')[-1]\n",
    "    write_folder = '/home3/hiya/workspace/data/hirise_dataset/' + prefix + '_corrupted/'\n",
    "    print('Saving to ', write_folder)\n",
    "    save_corrupted_text_disk(files_txt, mask_in=hirise_test_mask, write_folder=write_folder)"
   ]
  },
  {
   "cell_type": "code",
   "execution_count": null,
   "metadata": {},
   "outputs": [],
   "source": [
    "prefix = clean_filenames['all'].split('.txt')[0].split('/')[-1]"
   ]
  },
  {
   "cell_type": "code",
   "execution_count": null,
   "metadata": {},
   "outputs": [],
   "source": [
    "print(hirise_train_mask[1]/255.)\n",
    "plt.imshow(1-hirise_train_mask[0]/255., cmap='gray')"
   ]
  }
 ],
 "metadata": {
  "kernelspec": {
   "display_name": "Python 3",
   "language": "python",
   "name": "python3"
  },
  "language_info": {
   "codemirror_mode": {
    "name": "ipython",
    "version": 3
   },
   "file_extension": ".py",
   "mimetype": "text/x-python",
   "name": "python",
   "nbconvert_exporter": "python",
   "pygments_lexer": "ipython3",
   "version": "3.7.7"
  }
 },
 "nbformat": 4,
 "nbformat_minor": 4
}
